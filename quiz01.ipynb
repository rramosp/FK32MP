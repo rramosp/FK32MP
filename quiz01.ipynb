{
 "cells": [
  {
   "cell_type": "markdown",
   "metadata": {},
   "source": [
    "## Quiz 01 - Computer vision\n",
    "\n",
    "## EJECUTA ESTA CELDA PARA AUTENTICARTE CON TU CUENTA DE GMAIL"
   ]
  },
  {
   "cell_type": "code",
   "execution_count": null,
   "metadata": {
    "collapsed": false
   },
   "outputs": [],
   "source": [
    "from mooclib import *\n",
    "import inspect, urllib\n",
    "html, auth_code, userinfo = google_authenticate(PORT_NUMBER=8080)\n",
    "html"
   ]
  },
  {
   "cell_type": "markdown",
   "metadata": {},
   "source": [
    "## <font style=\"color: red\"> Este quiz tiene cuatro ejercicios<!-- ONLY IN NOTEBOOK -->"
   ]
  },
  {
   "cell_type": "markdown",
   "metadata": {},
   "source": [
    "### Ejercicio 1: Preprocesamiento de imágenes"
   ]
  },
  {
   "cell_type": "markdown",
   "metadata": {},
   "source": [
    "Completa la función `preprocess_image` para que:\n",
    "\n",
    "1. Lea la imagen `imgs/puente.jpg`. Es una imagen de 300x450 con tres canales de color\n",
    "- Convierta la imagen en escala de grises calculando la intensidad de gris de cada pixel como el promedio de los valores del propio pixel en los tres canales (usa `numpy.mean`)\n",
    "- Realice una convolución con el siguiente filtro\n",
    "\n",
    "      [[ 0 -1  0]\n",
    "       [-1  5 -1] \n",
    "       [ 0 -1  0]]\n",
    " \n",
    "- Saque el valor absoluto de cada pixel (usa `numpy.abs`)\n",
    "\n",
    "El resultado debe de ser una imagen de tamaño 298x448\n",
    "\n",
    "Importa dentro de la función las librerías que necesites para implementarla.\n",
    "\n",
    "Si necesitas definir una función auxiliar (p.ej. para hacer la convolución), hazlo dentro de la misma función. P.ej.:\n",
    "\n",
    "     def preprocess_image():\n",
    "         from skimage import io\n",
    "         img = io.imread(\"img/puente.jpg\")\n",
    "         gray_img = ... # convertir a escala de grises\n",
    "         \n",
    "         def convolution (A,f):\n",
    "            cols = A.shape[0]-f.shape[0]+1\n",
    "            rows = A.shape[1]-f.shape[1]+1\n",
    "            ...  # otro codigo\n",
    "            return result\n",
    "            \n",
    "         f = ... # el filtro de convolucion\n",
    "         cimg = convolution(gray_img,f)\n",
    "         ... # otro codigo\n",
    "         return result_img\n",
    "\n",
    "La imagen resultado debería de verse así\n",
    "<img src=\"imgs/puente-result.jpg\"/>\n",
    "\n",
    "Si sumas el valor de los pixeles de la imagen resultado debe de dar 18800487"
   ]
  },
  {
   "cell_type": "code",
   "execution_count": null,
   "metadata": {
    "collapsed": false
   },
   "outputs": [],
   "source": [
    "def preprocess_image():\n",
    "    import numpy as np\n",
    "    from skimage import io\n",
    "    import numpy as np\n",
    "    \n",
    "    ## TU CODIGO AQUI\n",
    "    result_img = ....\n",
    "    \n",
    "    return result_img\n",
    "\n",
    "import urllib, inspect\n",
    "src1 = urllib.quote_plus(inspect.getsource(preprocess_image))"
   ]
  },
  {
   "cell_type": "markdown",
   "metadata": {},
   "source": [
    "Verifica visualmente si tu imagen resultado parece correcta"
   ]
  },
  {
   "cell_type": "code",
   "execution_count": null,
   "metadata": {
    "collapsed": false,
    "scrolled": true
   },
   "outputs": [],
   "source": [
    "import matplotlib.pyplot as plt\n",
    "import numpy as np\n",
    "\n",
    "%matplotlib inline\n",
    "cimg = preprocess_image()\n",
    "plt.imshow(cimg, cmap=plt.cm.Greys_r, interpolation=\"none\");\n",
    "print cimg.shape, np.sum(cimg)"
   ]
  },
  {
   "cell_type": "markdown",
   "metadata": {},
   "source": [
    "#### check your answer before submitting:"
   ]
  },
  {
   "cell_type": "code",
   "execution_count": null,
   "metadata": {
    "collapsed": false
   },
   "outputs": [],
   "source": [
    "!./run CHECK_SOLUTION QZ1_1 $src1"
   ]
  },
  {
   "cell_type": "markdown",
   "metadata": {},
   "source": [
    "#### submit your answer (you must be connected to internet)"
   ]
  },
  {
   "cell_type": "code",
   "execution_count": null,
   "metadata": {
    "collapsed": false
   },
   "outputs": [],
   "source": [
    "!./run SUBMIT_SOLUTION QZ1_1 $src1"
   ]
  },
  {
   "cell_type": "markdown",
   "metadata": {
    "collapsed": true
   },
   "source": [
    "### Ejercicio 2: Clasificación con K-Neighbors\n",
    "\n",
    "Completa la función siguiente para que:\n",
    "\n",
    "1. Cargue el fichero `data/mnist1.5k.csv` según usado en las notas del curso\n",
    "2. Construya un modelo predictivo con el algoritmo de `KNeighborsClassifier` [[ref](http://scikit-learn.org/stable/modules/generated/sklearn.neighbors.KNeighborsClassifier.html)] usando un valor de 3 para el parámetro `n_neighbors` y entrenando con los últimos 1000 elementos de MNIST (los elementos del 500 en adelante)\n",
    "3. Devuelva el modelo construído.\n",
    "\n",
    "Si pruebas el modelo generado con los primeros 500 elementos debe de dar un desempeño del 87.4%"
   ]
  },
  {
   "cell_type": "code",
   "execution_count": null,
   "metadata": {
    "collapsed": false
   },
   "outputs": [],
   "source": [
    "def mnist_kmodel():\n",
    "\n",
    "    from sklearn.neighbors import KNeighborsClassifier \n",
    "    import numpy as np\n",
    "\n",
    "    # TU CODIGO AQUI\n",
    "    model = ...\n",
    "    \n",
    "    return model\n",
    "\n",
    "import urllib, inspect\n",
    "src2 = urllib.quote_plus(inspect.getsource(mnist_kmodel))"
   ]
  },
  {
   "cell_type": "markdown",
   "metadata": {},
   "source": [
    "#### check your answer before submitting:"
   ]
  },
  {
   "cell_type": "code",
   "execution_count": null,
   "metadata": {
    "collapsed": false
   },
   "outputs": [],
   "source": [
    "!./run CHECK_SOLUTION QZ1_2 $src2"
   ]
  },
  {
   "cell_type": "markdown",
   "metadata": {},
   "source": [
    "#### submit your answer (you must be connected to internet)"
   ]
  },
  {
   "cell_type": "code",
   "execution_count": null,
   "metadata": {
    "collapsed": false
   },
   "outputs": [],
   "source": [
    "!./run SUBMIT_SOLUTION QZ1_2 $src2"
   ]
  },
  {
   "cell_type": "markdown",
   "metadata": {},
   "source": [
    "### Ejercicio 3: Clasificación con SVD + KNeighbors\n",
    "\n",
    "Completa la función siguiente para que haga lo mismo que la del ejercicio anterior, pero que realice un `SVD` de 60 componentes ANTES de extraer los datos de entrenamiento y de entrenar el modelo. Fíjate que en las Notas 02C se usa un SVC con 100 componentes.\n",
    "\n",
    "Usa igualmente los últimos 1000 elementos para entrenar y un KNeighborsClassifier con `n_neighbors`=3.\n",
    "\n",
    "La función ha de devolver el modelo entrenado.\n",
    "\n",
    "Si pruebas tu modelo con los primeros 500 elementos el desempeño debería de ser del 82.2%."
   ]
  },
  {
   "cell_type": "code",
   "execution_count": null,
   "metadata": {
    "collapsed": false
   },
   "outputs": [],
   "source": [
    "def mnist_svdk():\n",
    "    import scipy.linalg as la\n",
    "    import numpy as np\n",
    "    from sklearn.neighbors import KNeighborsClassifier \n",
    "\n",
    "    # TU CODIGO AQUI\n",
    "    model = ...\n",
    "        \n",
    "    return model\n",
    "\n",
    "import urllib, inspect\n",
    "src3 = urllib.quote_plus(inspect.getsource(mnist_svdk))"
   ]
  },
  {
   "cell_type": "markdown",
   "metadata": {},
   "source": [
    "#### check your answer before submitting:"
   ]
  },
  {
   "cell_type": "code",
   "execution_count": null,
   "metadata": {
    "collapsed": false
   },
   "outputs": [],
   "source": [
    "!./run CHECK_SOLUTION QZ1_3 $src3"
   ]
  },
  {
   "cell_type": "markdown",
   "metadata": {},
   "source": [
    "#### submit your answer (you must be connected to internet)"
   ]
  },
  {
   "cell_type": "code",
   "execution_count": null,
   "metadata": {
    "collapsed": false
   },
   "outputs": [],
   "source": [
    "!./run SUBMIT_SOLUTION QZ1_3 $src3"
   ]
  },
  {
   "cell_type": "markdown",
   "metadata": {},
   "source": [
    "### Ejercicio 4: Mejor clasificación con KNeighbours\n",
    "\n",
    "Repite el ejercicio 2, pero esta vez usa el valor de `n_neighbors` entre 1 y 10 (ambos incluidos) que dé el mejor resultado en test (los primeros 500 elementos), después de haber entrenado con los últimos 1000 elementos.\n",
    "\n",
    "La función siguiente ha de devolver un modelo configurado con el valor de `n_neighbors` óptimo.\n",
    "\n",
    "_Sugerencia_: Usa otro notebook para probar los distintos valores de `n_neighbors` y luego completa la función siguiente usando el valor óptimo.\n",
    "\n",
    "Usando el valor óptimo debes de obtener un desempeño de 89.2% con los primeros 500 datos."
   ]
  },
  {
   "cell_type": "code",
   "execution_count": null,
   "metadata": {
    "collapsed": true
   },
   "outputs": [],
   "source": [
    "def best_mnist():\n",
    "    from sklearn.neighbors import KNeighborsClassifier \n",
    "    import numpy as np\n",
    "    \n",
    "    # TU CODIGO AQUI\n",
    "    model = ...\n",
    "    \n",
    "    return model\n",
    "\n",
    "import urllib, inspect\n",
    "src4 = urllib.quote_plus(inspect.getsource(best_mnist))"
   ]
  },
  {
   "cell_type": "markdown",
   "metadata": {},
   "source": [
    "#### check your answer before submitting:"
   ]
  },
  {
   "cell_type": "code",
   "execution_count": null,
   "metadata": {
    "collapsed": false
   },
   "outputs": [],
   "source": [
    "!./run CHECK_SOLUTION QZ1_4 $src4"
   ]
  },
  {
   "cell_type": "markdown",
   "metadata": {},
   "source": [
    "#### submit your answer (you must be connected to internet)"
   ]
  },
  {
   "cell_type": "code",
   "execution_count": null,
   "metadata": {
    "collapsed": false
   },
   "outputs": [],
   "source": [
    "!./run SUBMIT_SOLUTION QZ1_4 $src4"
   ]
  },
  {
   "cell_type": "code",
   "execution_count": null,
   "metadata": {
    "collapsed": true
   },
   "outputs": [],
   "source": []
  }
 ],
 "metadata": {
  "kernelspec": {
   "display_name": "Python 2",
   "language": "python",
   "name": "python2"
  },
  "language_info": {
   "codemirror_mode": {
    "name": "ipython",
    "version": 2
   },
   "file_extension": ".py",
   "mimetype": "text/x-python",
   "name": "python",
   "nbconvert_exporter": "python",
   "pygments_lexer": "ipython2",
   "version": "2.7.11"
  },
  "toc": {
   "toc_cell": false,
   "toc_number_sections": false,
   "toc_threshold": 6,
   "toc_window_display": false
  }
 },
 "nbformat": 4,
 "nbformat_minor": 0
}
